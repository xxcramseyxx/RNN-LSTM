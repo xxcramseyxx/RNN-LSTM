{
  "nbformat": 4,
  "nbformat_minor": 0,
  "metadata": {
    "colab": {
      "name": "RNN-LSTM.ipynb",
      "provenance": [],
      "authorship_tag": "ABX9TyPj8x2qlHdIGbvO+Fbm15PM",
      "include_colab_link": true
    },
    "kernelspec": {
      "name": "python3",
      "display_name": "Python 3"
    }
  },
  "cells": [
    {
      "cell_type": "markdown",
      "metadata": {
        "id": "view-in-github",
        "colab_type": "text"
      },
      "source": [
        "<a href=\"https://colab.research.google.com/github/xxcramseyxx/RNN-LSTM/blob/main/RNN_LSTM.ipynb\" target=\"_parent\"><img src=\"https://colab.research.google.com/assets/colab-badge.svg\" alt=\"Open In Colab\"/></a>"
      ]
    },
    {
      "cell_type": "code",
      "metadata": {
        "id": "f5xKl4Gooz-1"
      },
      "source": [
        "import numpy as np\n",
        "import pandas as pd\n",
        "import matplotlib.pyplot as plt\n"
      ],
      "execution_count": null,
      "outputs": []
    },
    {
      "cell_type": "code",
      "metadata": {
        "id": "U5IX6-RkuY03"
      },
      "source": [
        "df = pd.read_csv('/content/Google_Stock_Price_Train.csv')\n",
        "train_set = df.iloc[:,1:2].values\n"
      ],
      "execution_count": null,
      "outputs": []
    },
    {
      "cell_type": "code",
      "metadata": {
        "colab": {
          "base_uri": "https://localhost:8080/"
        },
        "id": "KnVRA_CtutgT",
        "outputId": "63c50dc5-cf56-498a-b3e0-20c9123b1e58"
      },
      "source": [
        "print(train_set)\n"
      ],
      "execution_count": null,
      "outputs": [
        {
          "output_type": "stream",
          "name": "stdout",
          "text": [
            "[[4438.  ]\n",
            " [4384.  ]\n",
            " [4343.25]\n",
            " [4421.75]\n",
            " [4421.75]\n",
            " [4464.25]\n",
            " [4472.  ]\n",
            " [4444.5 ]\n",
            " [4469.  ]\n",
            " [4458.25]\n",
            " [4492.25]\n",
            " [4512.5 ]\n",
            " [4519.25]\n",
            " [4534.5 ]\n",
            " [4535.25]\n",
            " [4521.25]\n",
            " [4520.5 ]\n",
            " [4525.25]\n",
            " [4505.5 ]\n",
            " [4466.5 ]\n",
            " [4493.  ]\n",
            " [4482.5 ]\n",
            " [4475.5 ]]\n"
          ]
        }
      ]
    },
    {
      "cell_type": "markdown",
      "metadata": {
        "id": "tJsVA-MRDfp0"
      },
      "source": [
        "# Feature Scaling\n"
      ]
    },
    {
      "cell_type": "code",
      "metadata": {
        "colab": {
          "base_uri": "https://localhost:8080/"
        },
        "id": "sOLkuFKQ5Ema",
        "outputId": "f3ed2bb2-cfa3-467d-cf9a-1ddc26ce0bbc"
      },
      "source": [
        "from sklearn.preprocessing import MinMaxScaler\n",
        "sc = MinMaxScaler(feature_range=(0,1))\n",
        "train_set_scaled = sc.fit_transform(train_set)\n",
        "print(train_set_scaled)"
      ],
      "execution_count": null,
      "outputs": [
        {
          "output_type": "stream",
          "name": "stdout",
          "text": [
            "[[0.49348958]\n",
            " [0.21223958]\n",
            " [0.        ]\n",
            " [0.40885417]\n",
            " [0.40885417]\n",
            " [0.63020833]\n",
            " [0.67057292]\n",
            " [0.52734375]\n",
            " [0.65494792]\n",
            " [0.59895833]\n",
            " [0.77604167]\n",
            " [0.88151042]\n",
            " [0.91666667]\n",
            " [0.99609375]\n",
            " [1.        ]\n",
            " [0.92708333]\n",
            " [0.92317708]\n",
            " [0.94791667]\n",
            " [0.84505208]\n",
            " [0.64192708]\n",
            " [0.77994792]\n",
            " [0.72526042]\n",
            " [0.68880208]]\n"
          ]
        }
      ]
    },
    {
      "cell_type": "markdown",
      "metadata": {
        "id": "X22FI9BxDMJY"
      },
      "source": [
        "# Creating A New Data Structure with 60 timesteps and 1 output\n",
        " \n",
        "\n",
        "---\n",
        "\n"
      ]
    },
    {
      "cell_type": "code",
      "metadata": {
        "colab": {
          "base_uri": "https://localhost:8080/",
          "height": 232
        },
        "id": "HnKj6Gpy9eN_",
        "outputId": "372fc8c6-644d-4407-a68e-9d7258c7efb9"
      },
      "source": [
        "X_train = []\n",
        "y_train = []\n",
        "for i in range(60, 1258): #setting the timesteps\n",
        "  X_train.append(train_set_scaled[i-60:i, 0])\n",
        "  y_train.append(train_set_scaled[i, 0])\n",
        "X_train, y_train = np.array(X_train), np.array(y_train)\n",
        "print(X_train)\n",
        "print(y_train)"
      ],
      "execution_count": null,
      "outputs": [
        {
          "output_type": "error",
          "ename": "IndexError",
          "evalue": "ignored",
          "traceback": [
            "\u001b[0;31m---------------------------------------------------------------------------\u001b[0m",
            "\u001b[0;31mIndexError\u001b[0m                                Traceback (most recent call last)",
            "\u001b[0;32m<ipython-input-9-13d4b1a22d8e>\u001b[0m in \u001b[0;36m<module>\u001b[0;34m()\u001b[0m\n\u001b[1;32m      3\u001b[0m \u001b[0;32mfor\u001b[0m \u001b[0mi\u001b[0m \u001b[0;32min\u001b[0m \u001b[0mrange\u001b[0m\u001b[0;34m(\u001b[0m\u001b[0;36m60\u001b[0m\u001b[0;34m,\u001b[0m \u001b[0;36m1258\u001b[0m\u001b[0;34m)\u001b[0m\u001b[0;34m:\u001b[0m \u001b[0;31m#setting the timesteps\u001b[0m\u001b[0;34m\u001b[0m\u001b[0;34m\u001b[0m\u001b[0m\n\u001b[1;32m      4\u001b[0m   \u001b[0mX_train\u001b[0m\u001b[0;34m.\u001b[0m\u001b[0mappend\u001b[0m\u001b[0;34m(\u001b[0m\u001b[0mtrain_set_scaled\u001b[0m\u001b[0;34m[\u001b[0m\u001b[0mi\u001b[0m\u001b[0;34m-\u001b[0m\u001b[0;36m60\u001b[0m\u001b[0;34m:\u001b[0m\u001b[0mi\u001b[0m\u001b[0;34m,\u001b[0m \u001b[0;36m0\u001b[0m\u001b[0;34m]\u001b[0m\u001b[0;34m)\u001b[0m\u001b[0;34m\u001b[0m\u001b[0;34m\u001b[0m\u001b[0m\n\u001b[0;32m----> 5\u001b[0;31m   \u001b[0my_train\u001b[0m\u001b[0;34m.\u001b[0m\u001b[0mappend\u001b[0m\u001b[0;34m(\u001b[0m\u001b[0mtrain_set_scaled\u001b[0m\u001b[0;34m[\u001b[0m\u001b[0mi\u001b[0m\u001b[0;34m,\u001b[0m \u001b[0;36m0\u001b[0m\u001b[0;34m]\u001b[0m\u001b[0;34m)\u001b[0m\u001b[0;34m\u001b[0m\u001b[0;34m\u001b[0m\u001b[0m\n\u001b[0m\u001b[1;32m      6\u001b[0m \u001b[0mX_train\u001b[0m\u001b[0;34m,\u001b[0m \u001b[0my_train\u001b[0m \u001b[0;34m=\u001b[0m \u001b[0mnp\u001b[0m\u001b[0;34m.\u001b[0m\u001b[0marray\u001b[0m\u001b[0;34m(\u001b[0m\u001b[0mX_train\u001b[0m\u001b[0;34m)\u001b[0m\u001b[0;34m,\u001b[0m \u001b[0mnp\u001b[0m\u001b[0;34m.\u001b[0m\u001b[0marray\u001b[0m\u001b[0;34m(\u001b[0m\u001b[0my_train\u001b[0m\u001b[0;34m)\u001b[0m\u001b[0;34m\u001b[0m\u001b[0;34m\u001b[0m\u001b[0m\n\u001b[1;32m      7\u001b[0m \u001b[0mprint\u001b[0m\u001b[0;34m(\u001b[0m\u001b[0mX_train\u001b[0m\u001b[0;34m)\u001b[0m\u001b[0;34m\u001b[0m\u001b[0;34m\u001b[0m\u001b[0m\n",
            "\u001b[0;31mIndexError\u001b[0m: index 60 is out of bounds for axis 0 with size 23"
          ]
        }
      ]
    },
    {
      "cell_type": "code",
      "metadata": {
        "id": "a2i5PT0Y_mgj"
      },
      "source": [
        "from google.colab import drive\n",
        "drive.mount('/content/drive')"
      ],
      "execution_count": null,
      "outputs": []
    },
    {
      "cell_type": "markdown",
      "metadata": {
        "id": "nEr_m4ObkXqi"
      },
      "source": [
        "# Reshaping\n"
      ]
    },
    {
      "cell_type": "code",
      "metadata": {
        "colab": {
          "base_uri": "https://localhost:8080/"
        },
        "id": "uRmY9TpGkaUI",
        "outputId": "6d0be89b-84ce-4b7d-b55f-1eabfed62e63"
      },
      "source": [
        "X_train = np.reshape(X_train,(X_train.shape[0],X_train.shape[1],1))\n",
        "print(X_train)"
      ],
      "execution_count": null,
      "outputs": [
        {
          "output_type": "stream",
          "text": [
            "[[[0.08581368]\n",
            "  [0.09701243]\n",
            "  [0.09433366]\n",
            "  ...\n",
            "  [0.07846566]\n",
            "  [0.08034452]\n",
            "  [0.08497656]]\n",
            "\n",
            " [[0.09701243]\n",
            "  [0.09433366]\n",
            "  [0.09156187]\n",
            "  ...\n",
            "  [0.08034452]\n",
            "  [0.08497656]\n",
            "  [0.08627874]]\n",
            "\n",
            " [[0.09433366]\n",
            "  [0.09156187]\n",
            "  [0.07984225]\n",
            "  ...\n",
            "  [0.08497656]\n",
            "  [0.08627874]\n",
            "  [0.08471612]]\n",
            "\n",
            " ...\n",
            "\n",
            " [[0.92106928]\n",
            "  [0.92438053]\n",
            "  [0.93048218]\n",
            "  ...\n",
            "  [0.95475854]\n",
            "  [0.95204256]\n",
            "  [0.95163331]]\n",
            "\n",
            " [[0.92438053]\n",
            "  [0.93048218]\n",
            "  [0.9299055 ]\n",
            "  ...\n",
            "  [0.95204256]\n",
            "  [0.95163331]\n",
            "  [0.95725128]]\n",
            "\n",
            " [[0.93048218]\n",
            "  [0.9299055 ]\n",
            "  [0.93113327]\n",
            "  ...\n",
            "  [0.95163331]\n",
            "  [0.95725128]\n",
            "  [0.93796041]]]\n"
          ],
          "name": "stdout"
        }
      ]
    },
    {
      "cell_type": "markdown",
      "metadata": {
        "id": "IMwF8kWz0Lhk"
      },
      "source": [
        "# Building the RNN\n"
      ]
    },
    {
      "cell_type": "markdown",
      "metadata": {
        "id": "eVt-f75x0SRm"
      },
      "source": [
        "# Importing the Keras libraries and packages\n"
      ]
    },
    {
      "cell_type": "code",
      "metadata": {
        "id": "R7CtRbYI0gwR"
      },
      "source": [
        "from keras.models import Sequential\n",
        "from keras.layers import Dense\n",
        "from keras.layers import LSTM\n",
        "from keras.layers import Dropout"
      ],
      "execution_count": null,
      "outputs": []
    },
    {
      "cell_type": "markdown",
      "metadata": {
        "id": "sibs38A21L90"
      },
      "source": [
        "# Initialization the RNN"
      ]
    },
    {
      "cell_type": "code",
      "metadata": {
        "id": "JVXv1LWk1ylL"
      },
      "source": [
        "regressor = Sequential()"
      ],
      "execution_count": null,
      "outputs": []
    },
    {
      "cell_type": "markdown",
      "metadata": {
        "id": "xwEJ1THTDbpX"
      },
      "source": [
        "# Activation the first LSTM layer and some Dropout regularization"
      ]
    },
    {
      "cell_type": "code",
      "metadata": {
        "id": "YVB8GKm4DpMP"
      },
      "source": [
        "regressor.add(LSTM(units = 50, return_sequences = True, input_shape = (X_train.shape[1],1)))\n",
        "regressor.add(Dropout(0.2))"
      ],
      "execution_count": null,
      "outputs": []
    },
    {
      "cell_type": "markdown",
      "metadata": {
        "id": "WdC3TA5cLJt4"
      },
      "source": [
        "# Activation the second LSTM layer and some Dropout regularization"
      ]
    },
    {
      "cell_type": "code",
      "metadata": {
        "id": "FISYYXibLcr3"
      },
      "source": [
        "regressor.add(LSTM(units = 50, return_sequences = True))\n",
        "regressor.add(Dropout(0.2))"
      ],
      "execution_count": null,
      "outputs": []
    },
    {
      "cell_type": "markdown",
      "metadata": {
        "id": "A9asySbTLPFT"
      },
      "source": [
        "# Activation the third LSTM layer and some Dropout regularization"
      ]
    },
    {
      "cell_type": "code",
      "metadata": {
        "id": "IfFwjG15Mgcu"
      },
      "source": [
        "regressor.add(LSTM(units = 50, return_sequences = True))\n",
        "regressor.add(Dropout(0.2))"
      ],
      "execution_count": null,
      "outputs": []
    },
    {
      "cell_type": "markdown",
      "metadata": {
        "id": "A0guOBH9LU-0"
      },
      "source": [
        "# Activation the fourth LSTM layer and some Dropout regularization"
      ]
    },
    {
      "cell_type": "code",
      "metadata": {
        "id": "8KbVjVprRAZu"
      },
      "source": [
        "regressor.add(LSTM(units = 50))\n",
        "regressor.add(Dropout(0.2))\n"
      ],
      "execution_count": null,
      "outputs": []
    },
    {
      "cell_type": "markdown",
      "metadata": {
        "id": "yxTP8VmIR96N"
      },
      "source": [
        "#Adding the output layer"
      ]
    },
    {
      "cell_type": "code",
      "metadata": {
        "id": "Gnx3MFVUSBFJ"
      },
      "source": [
        "regressor.add(Dense(units = 1))\n"
      ],
      "execution_count": null,
      "outputs": []
    },
    {
      "cell_type": "markdown",
      "metadata": {
        "id": "SQE2Vz2rSpMf"
      },
      "source": [
        "# Compiling the RNN"
      ]
    },
    {
      "cell_type": "code",
      "metadata": {
        "id": "-oCj9eOtStXd"
      },
      "source": [
        "regressor.compile(optimizer = 'adam', loss = 'mean_squared_error')"
      ],
      "execution_count": null,
      "outputs": []
    },
    {
      "cell_type": "markdown",
      "metadata": {
        "id": "alcprnrq4BXf"
      },
      "source": [
        "# Fitting the RNN to the training set"
      ]
    },
    {
      "cell_type": "code",
      "metadata": {
        "colab": {
          "base_uri": "https://localhost:8080/"
        },
        "id": "Tkz3FdS84E0a",
        "outputId": "c5e21283-9011-4d09-d7ff-73bdcd4b8907"
      },
      "source": [
        "regressor.fit(X_train, y_train, epochs = 100, batch_size = 32)"
      ],
      "execution_count": null,
      "outputs": [
        {
          "output_type": "stream",
          "text": [
            "Epoch 1/100\n",
            "38/38 [==============================] - 11s 123ms/step - loss: 0.1682\n",
            "Epoch 2/100\n",
            "38/38 [==============================] - 5s 126ms/step - loss: 0.0641\n",
            "Epoch 3/100\n",
            "38/38 [==============================] - 5s 123ms/step - loss: 0.0529\n",
            "Epoch 4/100\n",
            "38/38 [==============================] - 5s 122ms/step - loss: 0.0434\n",
            "Epoch 5/100\n",
            "38/38 [==============================] - 5s 125ms/step - loss: 0.0259\n",
            "Epoch 6/100\n",
            "38/38 [==============================] - 5s 121ms/step - loss: 0.0131\n",
            "Epoch 7/100\n",
            "38/38 [==============================] - 5s 119ms/step - loss: 0.0072\n",
            "Epoch 8/100\n",
            "38/38 [==============================] - 5s 128ms/step - loss: 0.0065\n",
            "Epoch 9/100\n",
            "38/38 [==============================] - 5s 124ms/step - loss: 0.0060\n",
            "Epoch 10/100\n",
            "38/38 [==============================] - 5s 123ms/step - loss: 0.0059\n",
            "Epoch 11/100\n",
            "38/38 [==============================] - 5s 127ms/step - loss: 0.0060\n",
            "Epoch 12/100\n",
            "38/38 [==============================] - 5s 127ms/step - loss: 0.0058\n",
            "Epoch 13/100\n",
            "38/38 [==============================] - 5s 125ms/step - loss: 0.0059\n",
            "Epoch 14/100\n",
            "38/38 [==============================] - 5s 126ms/step - loss: 0.0048\n",
            "Epoch 15/100\n",
            "38/38 [==============================] - 5s 130ms/step - loss: 0.0055\n",
            "Epoch 16/100\n",
            "38/38 [==============================] - 5s 127ms/step - loss: 0.0052\n",
            "Epoch 17/100\n",
            "38/38 [==============================] - 5s 128ms/step - loss: 0.0056\n",
            "Epoch 18/100\n",
            "38/38 [==============================] - 5s 127ms/step - loss: 0.0047\n",
            "Epoch 19/100\n",
            "38/38 [==============================] - 5s 126ms/step - loss: 0.0052\n",
            "Epoch 20/100\n",
            "38/38 [==============================] - 5s 125ms/step - loss: 0.0054\n",
            "Epoch 21/100\n",
            "38/38 [==============================] - 5s 134ms/step - loss: 0.0051\n",
            "Epoch 22/100\n",
            "38/38 [==============================] - 5s 130ms/step - loss: 0.0045\n",
            "Epoch 23/100\n",
            "38/38 [==============================] - 5s 128ms/step - loss: 0.0051\n",
            "Epoch 24/100\n",
            "38/38 [==============================] - 5s 130ms/step - loss: 0.0049\n",
            "Epoch 25/100\n",
            "38/38 [==============================] - 5s 130ms/step - loss: 0.0045\n",
            "Epoch 26/100\n",
            "38/38 [==============================] - 5s 132ms/step - loss: 0.0047\n",
            "Epoch 27/100\n",
            "38/38 [==============================] - 5s 132ms/step - loss: 0.0048\n",
            "Epoch 28/100\n",
            "38/38 [==============================] - 5s 132ms/step - loss: 0.0050\n",
            "Epoch 29/100\n",
            "38/38 [==============================] - 5s 125ms/step - loss: 0.0050\n",
            "Epoch 30/100\n",
            "38/38 [==============================] - 5s 127ms/step - loss: 0.0049\n",
            "Epoch 31/100\n",
            "38/38 [==============================] - 5s 127ms/step - loss: 0.0047\n",
            "Epoch 32/100\n",
            "38/38 [==============================] - 5s 125ms/step - loss: 0.0050\n",
            "Epoch 33/100\n",
            "38/38 [==============================] - 5s 127ms/step - loss: 0.0048\n",
            "Epoch 34/100\n",
            "38/38 [==============================] - 5s 127ms/step - loss: 0.0047\n",
            "Epoch 35/100\n",
            "38/38 [==============================] - 5s 123ms/step - loss: 0.0046\n",
            "Epoch 36/100\n",
            "38/38 [==============================] - 5s 126ms/step - loss: 0.0046\n",
            "Epoch 37/100\n",
            "38/38 [==============================] - 5s 127ms/step - loss: 0.0048\n",
            "Epoch 38/100\n",
            "38/38 [==============================] - 5s 129ms/step - loss: 0.0046\n",
            "Epoch 39/100\n",
            "38/38 [==============================] - 5s 130ms/step - loss: 0.0044\n",
            "Epoch 40/100\n",
            "38/38 [==============================] - 5s 129ms/step - loss: 0.0049\n",
            "Epoch 41/100\n",
            "38/38 [==============================] - 5s 127ms/step - loss: 0.0045\n",
            "Epoch 42/100\n",
            "38/38 [==============================] - 5s 129ms/step - loss: 0.0044\n",
            "Epoch 43/100\n",
            "38/38 [==============================] - 5s 129ms/step - loss: 0.0046\n",
            "Epoch 44/100\n",
            "38/38 [==============================] - 5s 127ms/step - loss: 0.0046\n",
            "Epoch 45/100\n",
            "38/38 [==============================] - 5s 131ms/step - loss: 0.0046\n",
            "Epoch 46/100\n",
            "38/38 [==============================] - 5s 126ms/step - loss: 0.0049\n",
            "Epoch 47/100\n",
            "38/38 [==============================] - 5s 126ms/step - loss: 0.0044\n",
            "Epoch 48/100\n",
            "38/38 [==============================] - 5s 127ms/step - loss: 0.0044\n",
            "Epoch 49/100\n",
            "38/38 [==============================] - 5s 125ms/step - loss: 0.0045\n",
            "Epoch 50/100\n",
            "38/38 [==============================] - 5s 132ms/step - loss: 0.0048\n",
            "Epoch 51/100\n",
            "38/38 [==============================] - 5s 134ms/step - loss: 0.0043\n",
            "Epoch 52/100\n",
            "38/38 [==============================] - 5s 128ms/step - loss: 0.0046\n",
            "Epoch 53/100\n",
            "38/38 [==============================] - 5s 130ms/step - loss: 0.0048\n",
            "Epoch 54/100\n",
            "38/38 [==============================] - 5s 132ms/step - loss: 0.0046\n",
            "Epoch 55/100\n",
            "38/38 [==============================] - 5s 129ms/step - loss: 0.0046\n",
            "Epoch 56/100\n",
            "38/38 [==============================] - 5s 127ms/step - loss: 0.0044\n",
            "Epoch 57/100\n",
            "38/38 [==============================] - 5s 129ms/step - loss: 0.0042\n",
            "Epoch 58/100\n",
            "38/38 [==============================] - 5s 128ms/step - loss: 0.0039\n",
            "Epoch 59/100\n",
            "38/38 [==============================] - 5s 130ms/step - loss: 0.0041\n",
            "Epoch 60/100\n",
            "38/38 [==============================] - 5s 131ms/step - loss: 0.0045\n",
            "Epoch 61/100\n",
            "38/38 [==============================] - 5s 130ms/step - loss: 0.0044\n",
            "Epoch 62/100\n",
            "38/38 [==============================] - 5s 130ms/step - loss: 0.0039\n",
            "Epoch 63/100\n",
            "38/38 [==============================] - 5s 133ms/step - loss: 0.0041\n",
            "Epoch 64/100\n",
            "38/38 [==============================] - 5s 129ms/step - loss: 0.0042\n",
            "Epoch 65/100\n",
            "38/38 [==============================] - 5s 129ms/step - loss: 0.0043\n",
            "Epoch 66/100\n",
            "38/38 [==============================] - 5s 130ms/step - loss: 0.0042\n",
            "Epoch 67/100\n",
            "38/38 [==============================] - 5s 130ms/step - loss: 0.0038\n",
            "Epoch 68/100\n",
            "38/38 [==============================] - 5s 127ms/step - loss: 0.0041\n",
            "Epoch 69/100\n",
            "38/38 [==============================] - 5s 134ms/step - loss: 0.0042\n",
            "Epoch 70/100\n",
            "38/38 [==============================] - 5s 132ms/step - loss: 0.0041\n",
            "Epoch 71/100\n",
            "38/38 [==============================] - 5s 129ms/step - loss: 0.0043\n",
            "Epoch 72/100\n",
            "38/38 [==============================] - 5s 130ms/step - loss: 0.0036\n",
            "Epoch 73/100\n",
            "38/38 [==============================] - 5s 131ms/step - loss: 0.0045\n",
            "Epoch 74/100\n",
            "38/38 [==============================] - 5s 130ms/step - loss: 0.0041\n",
            "Epoch 75/100\n",
            "38/38 [==============================] - 5s 133ms/step - loss: 0.0042\n",
            "Epoch 76/100\n",
            "38/38 [==============================] - 5s 130ms/step - loss: 0.0039\n",
            "Epoch 77/100\n",
            "38/38 [==============================] - 5s 128ms/step - loss: 0.0041\n",
            "Epoch 78/100\n",
            "38/38 [==============================] - 5s 134ms/step - loss: 0.0039\n",
            "Epoch 79/100\n",
            "38/38 [==============================] - 5s 133ms/step - loss: 0.0041\n",
            "Epoch 80/100\n",
            "38/38 [==============================] - 5s 128ms/step - loss: 0.0044\n",
            "Epoch 81/100\n",
            "38/38 [==============================] - 5s 129ms/step - loss: 0.0041\n",
            "Epoch 82/100\n",
            "38/38 [==============================] - 5s 137ms/step - loss: 0.0038\n",
            "Epoch 83/100\n",
            "38/38 [==============================] - 5s 128ms/step - loss: 0.0039\n",
            "Epoch 84/100\n",
            "38/38 [==============================] - 5s 132ms/step - loss: 0.0041\n",
            "Epoch 85/100\n",
            "38/38 [==============================] - 5s 133ms/step - loss: 0.0040\n",
            "Epoch 86/100\n",
            "38/38 [==============================] - 5s 135ms/step - loss: 0.0040\n",
            "Epoch 87/100\n",
            "38/38 [==============================] - 5s 136ms/step - loss: 0.0038\n",
            "Epoch 88/100\n",
            "38/38 [==============================] - 5s 138ms/step - loss: 0.0040\n",
            "Epoch 89/100\n",
            "38/38 [==============================] - 5s 130ms/step - loss: 0.0039\n",
            "Epoch 90/100\n",
            "38/38 [==============================] - 5s 132ms/step - loss: 0.0041\n",
            "Epoch 91/100\n",
            "38/38 [==============================] - 5s 129ms/step - loss: 0.0037\n",
            "Epoch 92/100\n",
            "38/38 [==============================] - 5s 130ms/step - loss: 0.0042\n",
            "Epoch 93/100\n",
            "38/38 [==============================] - 5s 129ms/step - loss: 0.0038\n",
            "Epoch 94/100\n",
            "38/38 [==============================] - 5s 134ms/step - loss: 0.0038\n",
            "Epoch 95/100\n",
            "38/38 [==============================] - 5s 128ms/step - loss: 0.0038\n",
            "Epoch 96/100\n",
            "38/38 [==============================] - 5s 128ms/step - loss: 0.0040\n",
            "Epoch 97/100\n",
            "38/38 [==============================] - 5s 132ms/step - loss: 0.0035\n",
            "Epoch 98/100\n",
            "38/38 [==============================] - 5s 137ms/step - loss: 0.0033\n",
            "Epoch 99/100\n",
            "38/38 [==============================] - 5s 137ms/step - loss: 0.0036\n",
            "Epoch 100/100\n",
            "38/38 [==============================] - 5s 137ms/step - loss: 0.0040\n"
          ],
          "name": "stdout"
        },
        {
          "output_type": "execute_result",
          "data": {
            "text/plain": [
              "<tensorflow.python.keras.callbacks.History at 0x7f0840e8c610>"
            ]
          },
          "metadata": {
            "tags": []
          },
          "execution_count": 151
        }
      ]
    },
    {
      "cell_type": "markdown",
      "metadata": {
        "id": "Yb-ZDl6X_jHv"
      },
      "source": [
        "# Making the predictions and visualizing the results"
      ]
    },
    {
      "cell_type": "markdown",
      "metadata": {
        "id": "LJpU2sLK_uDU"
      },
      "source": [
        "# Getting the real stock prices from 2017"
      ]
    },
    {
      "cell_type": "code",
      "metadata": {
        "colab": {
          "base_uri": "https://localhost:8080/"
        },
        "id": "t2jwc9dPCV8G",
        "outputId": "2ec39fd1-9bf7-4da9-dd0e-ef77c3b7fe1b"
      },
      "source": [
        "df_test = pd.read_csv('/content/Google_Stock_Price_Test.csv')\n",
        "real_stock_price = df_test.iloc[:, 1:2].values\n",
        "print(real_stock_price)"
      ],
      "execution_count": null,
      "outputs": [
        {
          "output_type": "stream",
          "text": [
            "[[778.81]\n",
            " [788.36]\n",
            " [786.08]\n",
            " [795.26]\n",
            " [806.4 ]\n",
            " [807.86]\n",
            " [805.  ]\n",
            " [807.14]\n",
            " [807.48]\n",
            " [807.08]\n",
            " [805.81]\n",
            " [805.12]\n",
            " [806.91]\n",
            " [807.25]\n",
            " [822.3 ]\n",
            " [829.62]\n",
            " [837.81]\n",
            " [834.71]\n",
            " [814.66]\n",
            " [796.86]]\n"
          ],
          "name": "stdout"
        }
      ]
    },
    {
      "cell_type": "markdown",
      "metadata": {
        "id": "wITZ7fy7_yoo"
      },
      "source": [
        "# Getting the predicted stock prices of 2017"
      ]
    },
    {
      "cell_type": "code",
      "metadata": {
        "colab": {
          "base_uri": "https://localhost:8080/"
        },
        "id": "3SpEQP8dCbvH",
        "outputId": "7c351cdc-770b-49d0-e344-673afd47d2b6"
      },
      "source": [
        "df_total = pd.concat((df['Open'],df_test['Open']), axis = 0) \n",
        "inputs = df_total[len(df) - len(df_test) - 60:].values\n",
        "inputs = inputs.reshape(-1,1)\n",
        "inputs = sc.transform(inputs)\n",
        "X_test = []\n",
        "for i in range(60,80): #divide the total inputs by the timesteps then add to\n",
        "    X_test.append(inputs[i-60:i,0])\n",
        "X_test = np.array(X_test)\n",
        "X_test = np.reshape(X_test, (X_test.shape[0],X_test.shape[1],1))\n",
        "pred_stock_price = regressor.predict(X_test)\n",
        "pred_stock_price = sc.inverse_transform(pred_stock_price)\n"
      ],
      "execution_count": null,
      "outputs": [
        {
          "output_type": "stream",
          "text": [
            "WARNING:tensorflow:7 out of the last 10 calls to <function Model.make_predict_function.<locals>.predict_function at 0x7f0840096830> triggered tf.function retracing. Tracing is expensive and the excessive number of tracings could be due to (1) creating @tf.function repeatedly in a loop, (2) passing tensors with different shapes, (3) passing Python objects instead of tensors. For (1), please define your @tf.function outside of the loop. For (2), @tf.function has experimental_relax_shapes=True option that relaxes argument shapes that can avoid unnecessary retracing. For (3), please refer to https://www.tensorflow.org/guide/function#controlling_retracing and https://www.tensorflow.org/api_docs/python/tf/function for  more details.\n"
          ],
          "name": "stdout"
        }
      ]
    },
    {
      "cell_type": "markdown",
      "metadata": {
        "id": "dnziiIjH_5ij"
      },
      "source": [
        "# Visualizing the results"
      ]
    },
    {
      "cell_type": "code",
      "metadata": {
        "colab": {
          "base_uri": "https://localhost:8080/",
          "height": 295
        },
        "id": "1HVQXAKr0lE6",
        "outputId": "763bc083-0f5a-4e22-8891-e5ca14d102a2"
      },
      "source": [
        "plt.plot(real_stock_price, color ='red', label ='Real Google Stock Price')\n",
        "plt.plot(pred_stock_price, color ='blue', label ='Predicted Google Stock Price')\n",
        "plt.title('Google Stock Price Prediction')\n",
        "plt.xlabel('Time')\n",
        "plt.ylabel('Google Stock Price')\n",
        "plt.legend()\n",
        "plt.show()\n"
      ],
      "execution_count": null,
      "outputs": [
        {
          "output_type": "display_data",
          "data": {
            "image/png": "[encoded data removed]",
            "text/plain": [
              "<Figure size 432x288 with 1 Axes>"
            ]
          },
          "metadata": {
            "tags": [],
            "needs_background": "light"
          }
        }
      ]
    }
  ]
}